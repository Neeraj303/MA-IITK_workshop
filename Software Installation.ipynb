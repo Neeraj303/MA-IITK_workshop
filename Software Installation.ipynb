{
 "cells": [
  {
   "cell_type": "markdown",
   "id": "db6f1447",
   "metadata": {},
   "source": [
    "# Software Installation"
   ]
  },
  {
   "cell_type": "markdown",
   "id": "92c435cd",
   "metadata": {},
   "source": [
    "## 1. For Personal Linux system"
   ]
  },
  {
   "cell_type": "code",
   "execution_count": 1,
   "id": "2438cfbe",
   "metadata": {},
   "outputs": [
    {
     "name": "stdout",
     "output_type": "stream",
     "text": [
      "No LSB modules are available.\r\n",
      "Distributor ID:\tUbuntu\r\n",
      "Description:\tUbuntu 20.04.6 LTS\r\n",
      "Release:\t20.04\r\n",
      "Codename:\tfocal\r\n"
     ]
    }
   ],
   "source": [
    "# the following command would give you information about your system Operating System.\n",
    "\n",
    "!lsb_release -a"
   ]
  },
  {
   "cell_type": "code",
   "execution_count": 3,
   "id": "f9e37607",
   "metadata": {},
   "outputs": [
    {
     "name": "stdout",
     "output_type": "stream",
     "text": [
      "16\r\n"
     ]
    }
   ],
   "source": [
    "# to check the number of cores on your system\n",
    "\n",
    "!nproc"
   ]
  },
  {
   "cell_type": "code",
   "execution_count": 14,
   "id": "1acc5769",
   "metadata": {},
   "outputs": [
    {
     "name": "stdout",
     "output_type": "stream",
     "text": [
      "Architecture:                    x86_64\r\n",
      "CPU op-mode(s):                  32-bit, 64-bit\r\n",
      "Byte Order:                      Little Endian\r\n",
      "Address sizes:                   39 bits physical, 48 bits virtual\r\n",
      "CPU(s):                          16\r\n",
      "On-line CPU(s) list:             0-15\r\n",
      "Thread(s) per core:              2\r\n",
      "Core(s) per socket:              8\r\n",
      "Socket(s):                       1\r\n",
      "NUMA node(s):                    1\r\n",
      "Vendor ID:                       GenuineIntel\r\n",
      "CPU family:                      6\r\n",
      "Model:                           165\r\n",
      "Model name:                      Intel(R) Core(TM) i7-10700 CPU @ 2.90GHz\r\n",
      "Stepping:                        5\r\n",
      "CPU MHz:                         4599.902\r\n",
      "CPU max MHz:                     4800.0000\r\n",
      "CPU min MHz:                     800.0000\r\n",
      "BogoMIPS:                        5799.77\r\n",
      "Virtualization:                  VT-x\r\n",
      "L1d cache:                       256 KiB\r\n",
      "L1i cache:                       256 KiB\r\n",
      "L2 cache:                        2 MiB\r\n",
      "L3 cache:                        16 MiB\r\n",
      "NUMA node0 CPU(s):               0-15\r\n",
      "Vulnerability Itlb multihit:     KVM: Vulnerable\r\n",
      "Vulnerability L1tf:              Not affected\r\n",
      "Vulnerability Mds:               Not affected\r\n",
      "Vulnerability Meltdown:          Not affected\r\n",
      "Vulnerability Mmio stale data:   Mitigation; Clear CPU buffers; SMT vulnerable\r\n",
      "Vulnerability Retbleed:          Mitigation; Enhanced IBRS\r\n",
      "Vulnerability Spec store bypass: Mitigation; Speculative Store Bypass disabled v\r\n",
      "                                 ia prctl and seccomp\r\n",
      "Vulnerability Spectre v1:        Mitigation; usercopy/swapgs barriers and __user\r\n",
      "                                  pointer sanitization\r\n",
      "Vulnerability Spectre v2:        Mitigation; Enhanced IBRS, IBPB conditional, RS\r\n",
      "                                 B filling, PBRSB-eIBRS SW sequence\r\n",
      "Vulnerability Srbds:             Mitigation; Microcode\r\n",
      "Vulnerability Tsx async abort:   Not affected\r\n",
      "Flags:                           fpu vme de pse tsc msr pae mce cx8 apic sep mtr\r\n",
      "                                 r pge mca cmov pat pse36 clflush dts acpi mmx f\r\n",
      "                                 xsr sse sse2 ss ht tm pbe syscall nx pdpe1gb rd\r\n",
      "                                 tscp lm constant_tsc art arch_perfmon pebs bts \r\n",
      "                                 rep_good nopl xtopology nonstop_tsc cpuid aperf\r\n",
      "                                 mperf pni pclmulqdq dtes64 monitor ds_cpl vmx s\r\n",
      "                                 mx est tm2 ssse3 sdbg fma cx16 xtpr pdcm pcid s\r\n",
      "                                 se4_1 sse4_2 x2apic movbe popcnt tsc_deadline_t\r\n",
      "                                 imer aes xsave avx f16c rdrand lahf_lm abm 3dno\r\n",
      "                                 wprefetch cpuid_fault epb invpcid_single ssbd i\r\n",
      "                                 brs ibpb stibp ibrs_enhanced tpr_shadow vnmi fl\r\n",
      "                                 expriority ept vpid ept_ad fsgsbase tsc_adjust \r\n",
      "                                 bmi1 avx2 smep bmi2 erms invpcid mpx rdseed adx\r\n",
      "                                  smap clflushopt intel_pt xsaveopt xsavec xgetb\r\n",
      "                                 v1 xsaves dtherm ida arat pln pts hwp hwp_notif\r\n",
      "                                 y hwp_act_window hwp_epp pku ospke md_clear flu\r\n",
      "                                 sh_l1d arch_capabilities\r\n"
     ]
    }
   ],
   "source": [
    "# to check other details.\n",
    "\n",
    "!lscpu"
   ]
  },
  {
   "cell_type": "markdown",
   "id": "508c2b9d",
   "metadata": {},
   "source": [
    "## 1.1 To install VMD"
   ]
  },
  {
   "cell_type": "code",
   "execution_count": 1,
   "id": "9d9dce17",
   "metadata": {},
   "outputs": [
    {
     "data": {
      "text/html": [
       "<iframe width=\"900\" height=\"600\"\n",
       "src=\"https://www.youtube.com/embed/shqUxZYmrfU\"\n",
       "</iframe>\n"
      ],
      "text/plain": [
       "<IPython.core.display.HTML object>"
      ]
     },
     "metadata": {},
     "output_type": "display_data"
    }
   ],
   "source": [
    "%%HTML\n",
    "<iframe width=\"900\" height=\"600\"\n",
    "src=\"https://www.youtube.com/embed/shqUxZYmrfU\"\n",
    "</iframe>"
   ]
  },
  {
   "cell_type": "code",
   "execution_count": 16,
   "id": "423bbd8f",
   "metadata": {},
   "outputs": [
    {
     "name": "stdout",
     "output_type": "stream",
     "text": [
      "/usr/local/lib/vmd/vmd_LINUXAMD64: /usr/lib/x86_64-linux-gnu/libGL.so.1: no version information available (required by /usr/local/lib/vmd/vmd_LINUXAMD64)\n",
      "Info) VMD for LINUXAMD64, version 1.9.3 (November 30, 2016)\n",
      "Info) http://www.ks.uiuc.edu/Research/vmd/                         \n",
      "Info) Email questions and bug reports to vmd@ks.uiuc.edu           \n",
      "Info) Please include this reference in published work using VMD:   \n",
      "Info)    Humphrey, W., Dalke, A. and Schulten, K., `VMD - Visual   \n",
      "Info)    Molecular Dynamics', J. Molec. Graphics 1996, 14.1, 33-38.\n",
      "Info) -------------------------------------------------------------\n",
      "Info) Multithreading available, 16 CPUs detected.\n",
      "Info)   CPU features: SSE2 AVX AVX2 FMA \n",
      "Info) Free system memory: 13GB (80%)\n",
      "Info) No CUDA accelerator devices available.\n",
      "Warning) Detected X11 'Composite' extension: if incorrect display occurs\n",
      "Warning) try disabling this X server option.  Most OpenGL drivers\n",
      "Warning) disable stereoscopic display when 'Composite' is enabled.\n",
      "Info) OpenGL renderer: NV137\n",
      "Info)   Features: STENCIL MSAA(4) MDE CVA MTX NPOT PP PS GLSL(OVFS) \n",
      "Info)   Full GLSL rendering mode is available.\n",
      "Info)   Textures: 2-D (16384x16384), 3-D (512x512x512), Multitexture (8)\n",
      "Info) Dynamically loaded 2 plugins in directory:\n",
      "Info) /usr/local/lib/vmd/plugins/LINUXAMD64/molfile\n",
      "after#0\n",
      "vmd > Info) VMD for LINUXAMD64, version 1.9.3 (November 30, 2016)\n",
      "Info) Exiting normally.\n",
      "\u001b[K\r"
     ]
    }
   ],
   "source": [
    "# To check if VMD software is installed correctly, you will see the interface of VMD.\n",
    "\n",
    "!vmd"
   ]
  },
  {
   "cell_type": "markdown",
   "id": "e672c29b",
   "metadata": {},
   "source": [
    "## 1.2 To install NAMD software"
   ]
  },
  {
   "cell_type": "code",
   "execution_count": 2,
   "id": "5b481927",
   "metadata": {},
   "outputs": [
    {
     "data": {
      "text/html": [
       "<iframe width=\"900\" height=\"600\" \n",
       "src=\"https://www.youtube.com/embed/fQvOThuypO8\"\n",
       "</iframe>\n"
      ],
      "text/plain": [
       "<IPython.core.display.HTML object>"
      ]
     },
     "metadata": {},
     "output_type": "display_data"
    }
   ],
   "source": [
    "%%HTML\n",
    "<iframe width=\"900\" height=\"600\" \n",
    "src=\"https://www.youtube.com/embed/fQvOThuypO8\"\n",
    "</iframe>"
   ]
  },
  {
   "cell_type": "code",
   "execution_count": 18,
   "id": "2566727f",
   "metadata": {},
   "outputs": [
    {
     "name": "stdout",
     "output_type": "stream",
     "text": [
      "Charm++> No provisioning arguments specified. Running with a single PE.\r\n",
      "         Use +auto-provision to fully subscribe resources or +p1 to silence this message.\r\n",
      "Charm++: standalone mode (not using charmrun)\r\n",
      "Charm++> Running in Multicore mode: 1 threads (PEs)\r\n",
      "Charm++> Using recursive bisection (scheme 3) for topology aware partitions\r\n",
      "Converse/Charm++ Commit ID: v6.10.2-0-g7bf00fa-namd-charm-6.10.2-build-2020-Aug-05-556\r\n",
      "Warning> Randomization of virtual memory (ASLR) is turned on in the kernel, thread migration may not work! Run 'echo 0 > /proc/sys/kernel/randomize_va_space' as root to disable it, or try running with '+isomalloc_sync'.\r\n",
      "CharmLB> Load balancer assumes all CPUs are same.\r\n",
      "Charm++> Running on 1 hosts (1 sockets x 8 cores x 2 PUs = 16-way SMP)\r\n",
      "Charm++> cpu topology info is gathered in 0.000 seconds.\r\n",
      "Info: NAMD 2.14 for Linux-x86_64-multicore\r\n",
      "Info: \r\n",
      "Info: Please visit http://www.ks.uiuc.edu/Research/namd/\r\n",
      "Info: for updates, documentation, and support information.\r\n",
      "Info: \r\n",
      "Info: Please cite Phillips et al., J. Chem. Phys. 153:044130 (2020) doi:10.1063/5.0014475\r\n",
      "Info: in all publications reporting results obtained with NAMD.\r\n",
      "Info: \r\n",
      "Info: Based on Charm++/Converse 61002 for multicore-linux-x86_64-iccstatic\r\n",
      "Info: Built Mon Aug 24 10:08:36 CDT 2020 by jim on belfast.ks.uiuc.edu\r\n",
      "Info: 1 NAMD  2.14  Linux-x86_64-multicore  1    bpcl-comp  neeraj\r\n",
      "Info: Running on 1 processors, 1 nodes, 1 physical nodes.\r\n",
      "Info: CPU topology information available.\r\n",
      "Info: Charm++/Converse parallel runtime startup completed at 0.000878063 s\r\n",
      "CkLoopLib is used in SMP with simple dynamic scheduling (converse-level notification)\r\n",
      "FATAL ERROR: No simulation config file specified on command line.\r\n",
      "FATAL ERROR: No simulation config file specified on command line.\r\n",
      "[Partition 0][Node 0] End of program\r\n"
     ]
    }
   ],
   "source": [
    "# To check NAMD software is correctly installed.\n",
    "\n",
    "!~/Downloads/NAMD_2.14_Linux-x86_64-multicore/namd2"
   ]
  },
  {
   "cell_type": "markdown",
   "id": "e39b1a18",
   "metadata": {},
   "source": [
    "## 2. On NSM."
   ]
  },
  {
   "cell_type": "markdown",
   "id": "e8c224cc",
   "metadata": {},
   "source": [
    "### 2.1 For VMD"
   ]
  },
  {
   "cell_type": "code",
   "execution_count": null,
   "id": "18aeb670",
   "metadata": {},
   "outputs": [],
   "source": [
    "# First install the tar file for VMD on your system as shown in the above video and transfer it to the NSM account.\n",
    "\n",
    "scp ~/Downloads/vmd-1.9.3.bin.LINUXAMD64-CUDA8-OptiX4-OSPRay111p1.opengl.tar.gz <username>@paramsanganak.iitk.ac.in\n",
    "\n",
    "# To know more about transferring file from Local system to NSM, refer to Page 15-16 in NSM Mannual (https://app.desklamp.io/read?id=bc43f516-9b45-4753-b852-766cd08cf0e3)"
   ]
  },
  {
   "cell_type": "code",
   "execution_count": null,
   "id": "52f2ea87",
   "metadata": {},
   "outputs": [],
   "source": [
    "# First open terminal, then login into NSM.\n",
    "\n",
    "ssh -X -p 4422 <username>@paramsanganak.iitk.ac.in"
   ]
  },
  {
   "cell_type": "code",
   "execution_count": 2,
   "id": "4a7a63ea",
   "metadata": {},
   "outputs": [
    {
     "data": {
      "text/html": [
       "<iframe width=\"900\" height=\"600\" src=\"https://www.youtube.com/embed/ElZH7XCexVE\"\n",
       "</iframe>\n"
      ],
      "text/plain": [
       "<IPython.core.display.HTML object>"
      ]
     },
     "metadata": {},
     "output_type": "display_data"
    }
   ],
   "source": [
    "# Video guide to install VMD on NSM supercomputer.\n",
    "\n",
    "%%HTML\n",
    "<iframe width=\"900\" height=\"600\" \n",
    "src=\"https://www.youtube.com/embed/ElZH7XCexVE\"\n",
    "</iframe>"
   ]
  },
  {
   "cell_type": "markdown",
   "id": "8ff32efc",
   "metadata": {},
   "source": [
    "## 2.2 For NAMD"
   ]
  },
  {
   "cell_type": "code",
   "execution_count": null,
   "id": "f1121051",
   "metadata": {},
   "outputs": [],
   "source": [
    "# The NSM cluster have pre-installed different NAMD versions to check them use this command after you login into NSM account.\n",
    "\n",
    "module avail\n",
    "\n",
    "# we would use NAMD2.13 version with CPU. (apps/namd/2.13/cpu/intel_18.2)"
   ]
  },
  {
   "cell_type": "markdown",
   "id": "aaf41dbc",
   "metadata": {},
   "source": [
    "## 2.3 For Anaconda."
   ]
  },
  {
   "cell_type": "code",
   "execution_count": null,
   "id": "c6371c24",
   "metadata": {},
   "outputs": [],
   "source": [
    "# First install the latest version of Anaconda installer for linux from here, https://www.anaconda.com/download/#linux. In my case it is Anaconda3-2023.03-1-Linux-x86_64.sh, transfer this to your NSM account\n",
    "\n",
    "scp ~/Downloads/Anaconda3-2023.03-1-Linux-x86_64.sh <username>@paramsanganak.iitk.ac.in\n",
    "sha256sum ~/Anaconda3-2023.03-1-Linux-x86_64.sh # to verfiy data integrity\n",
    "\n",
    "# OUTPUT TO THE ABOVE COMMAND.\n",
    "b9ec9a5f127eda7886bbb368aabedcfbd2daac4d38cbdc4ab5c2814342e1eb81  /home/nirajd/Anaconda3-2023.03-1-Linux-x86_64.sh"
   ]
  },
  {
   "cell_type": "code",
   "execution_count": 1,
   "id": "125502c1",
   "metadata": {},
   "outputs": [
    {
     "ename": "SyntaxError",
     "evalue": "invalid syntax (2935786087.py, line 1)",
     "output_type": "error",
     "traceback": [
      "\u001b[0;36m  Cell \u001b[0;32mIn[1], line 1\u001b[0;36m\u001b[0m\n\u001b[0;31m    bash ~/Anaconda3-2023.03-1-Linux-x86_64.sh\u001b[0m\n\u001b[0m         ^\u001b[0m\n\u001b[0;31mSyntaxError\u001b[0m\u001b[0;31m:\u001b[0m invalid syntax\n"
     ]
    }
   ],
   "source": [
    "bash ~/Anaconda3-2023.03-1-Linux-x86_64.sh\n",
    "# Press Enter\n",
    "# then type \n",
    "yes\n",
    "# then press enter to confirm the location"
   ]
  },
  {
   "cell_type": "code",
   "execution_count": null,
   "id": "d410057d",
   "metadata": {},
   "outputs": [],
   "source": []
  }
 ],
 "metadata": {
  "kernelspec": {
   "display_name": "Python 3 (ipykernel)",
   "language": "python",
   "name": "python3"
  },
  "language_info": {
   "codemirror_mode": {
    "name": "ipython",
    "version": 3
   },
   "file_extension": ".py",
   "mimetype": "text/x-python",
   "name": "python",
   "nbconvert_exporter": "python",
   "pygments_lexer": "ipython3",
   "version": "3.9.12"
  }
 },
 "nbformat": 4,
 "nbformat_minor": 5
}
